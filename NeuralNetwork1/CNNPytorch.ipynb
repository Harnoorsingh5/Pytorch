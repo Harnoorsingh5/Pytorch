{
 "nbformat": 4,
 "nbformat_minor": 2,
 "metadata": {
  "language_info": {
   "name": "python",
   "codemirror_mode": {
    "name": "ipython",
    "version": 3
   },
   "version": "3.7.3-final"
  },
  "orig_nbformat": 2,
  "file_extension": ".py",
  "mimetype": "text/x-python",
  "name": "python",
  "npconvert_exporter": "python",
  "pygments_lexer": "ipython3",
  "version": 3,
  "kernelspec": {
   "name": "python37364bitanaconda3conda69f34684b0334465ad3600c2ee4ebe36",
   "display_name": "Python 3.7.3 64-bit ('anaconda3': conda)"
  }
 },
 "cells": [
  {
   "cell_type": "code",
   "execution_count": 45,
   "metadata": {},
   "outputs": [],
   "source": [
    "## In CNN we don't have to flatten the image, we pass the image in its form, it accepts 2d input or 3d inputs.\n",
    "## Image -> 2d array of pixels\n",
    "##  Convulations are used to extract the features from the image. \n",
    "## 3 by 3 convulational kernel\n",
    "## During convulational a window is passed over the image of 3 by 3 size to extract features.\n",
    "## After this pooling is done (COMMONLY -max pooling)\n",
    "## It taked the maximumn value from the window until the window slides through whole image\n",
    "## CNN is simplyfying the image\n",
    "## 1st COnvulatinal layer finds basic features like edges curves\n",
    "## \n",
    "\n",
    "import os\n",
    "import cv2\n",
    "import numpy as np\n",
    "from tqdm import tqdm\n",
    "\n",
    "REBUILD_DATA = False\n",
    "\n",
    "class DogsVSCats():\n",
    "    IMG_SIZE = 50\n",
    "    CATS = \"PetImages/Cat\"\n",
    "    DOGS = \"PetImages/Dog\"\n",
    "    LABELS = {CATS: 0, DOGS: 1}\n",
    "    training_data = []\n",
    "    cat_count = 0\n",
    "    dog_count = 0\n",
    "    total = 0\n",
    "    def make_training_data(self):\n",
    "        for label in self.LABELS:\n",
    "            print(self.LABELS[label])\n",
    "            for image in tqdm(os.listdir(label)): ## for each image in a particular directory - first CAT then                                                     ## DOG. \n",
    "                try:\n",
    "                    imagePath = os.path.join(label,image) ## PetImages/Cat/image_name||PetImages/Dog/image_name\n",
    "                    img = cv2.imread(imagePath, cv2.IMREAD_GRAYSCALE) ## get the particular image into grayscale                                                                       ## format into the variable img\n",
    "                    img = cv2.resize(img, (self.IMG_SIZE,self.IMG_SIZE)) ## resize the image into 50*50\n",
    "                    self.training_data.append([np.array(img), np.eye(2)[self.LABELS[label]]])\n",
    "                    #np.eye(2)[0]=[1,0] cats\n",
    "                    #np.eye(2)[1]=[0,1] dogs\n",
    "                    if(self.LABELS[label] == 0):##cats\n",
    "                        self.cat_count += 1\n",
    "                    elif(self.LABELS[label] == 1):##dogs\n",
    "                        self.dog_count += 1\n",
    "\n",
    "                except Exception as e:\n",
    "                    pass\n",
    "                    #print(label, image, str(e))\n",
    "        np.random.shuffle(self.training_data)\n",
    "        np.save(\"training_data.npy\",self.training_data)\n",
    "        print(\"Cats: \",self.cat_count)\n",
    "        print(\"Dogs: \",self.dog_count)\n",
    "\n",
    "\n",
    "\n",
    "if REBUILD_DATA:\n",
    "    dogsvcats = DogsVSCats()    \n",
    "    dogsvcats.make_training_data()"
   ]
  },
  {
   "cell_type": "code",
   "execution_count": 10,
   "metadata": {},
   "outputs": [
    {
     "data": {
      "text/plain": "array([1., 0.])"
     },
     "execution_count": 10,
     "metadata": {},
     "output_type": "execute_result"
    }
   ],
   "source": [
    "np.eye(2)[0]"
   ]
  },
  {
   "cell_type": "code",
   "execution_count": 17,
   "metadata": {},
   "outputs": [
    {
     "name": "stdout",
     "output_type": "stream",
     "text": "24946\n"
    }
   ],
   "source": [
    "training_data = np.load(\"training_data.npy\",allow_pickle=True)\n",
    "print(len(training_data))"
   ]
  },
  {
   "cell_type": "code",
   "execution_count": 42,
   "metadata": {},
   "outputs": [
    {
     "name": "stdout",
     "output_type": "stream",
     "text": "[array([[116, 119, 122, ..., 178, 178, 177],\n       [117, 119, 122, ..., 179, 179, 179],\n       [119, 119, 123, ..., 181, 180, 180],\n       ...,\n       [108, 123, 130, ..., 150, 152, 152],\n       [119, 127, 133, ..., 148, 149, 149],\n       [124, 130, 129, ..., 145, 146, 146]], dtype=uint8)\n array([0., 1.])]\n[[116 119 122 ... 178 178 177]\n [117 119 122 ... 179 179 179]\n [119 119 123 ... 181 180 180]\n ...\n [108 123 130 ... 150 152 152]\n [119 127 133 ... 148 149 149]\n [124 130 129 ... 145 146 146]]\n[0. 1.]\n"
    }
   ],
   "source": [
    "print(training_data[1])\n",
    "print(training_data[1][0])\n",
    "print(training_data[1][1])"
   ]
  },
  {
   "cell_type": "code",
   "execution_count": 40,
   "metadata": {},
   "outputs": [
    {
     "data": {
      "image/png": "[encoded data removed]",
      "image/svg+xml": "<?xml version=\"1.0\" encoding=\"utf-8\" standalone=\"no\"?>\n<!DOCTYPE svg PUBLIC \"-//W3C//DTD SVG 1.1//EN\"\n  \"http://www.w3.org/Graphics/SVG/1.1/DTD/svg11.dtd\">\n<!-- Created with matplotlib (https://matplotlib.org/) -->\n<svg height=\"250.142944pt\" version=\"1.1\" viewBox=\"0 0 251.565 250.142944\" width=\"251.565pt\" xmlns=\"http://www.w3.org/2000/svg\" xmlns:xlink=\"http://www.w3.org/1999/xlink\">\n <defs>\n  <style type=\"text/css\">\n*{stroke-linecap:butt;stroke-linejoin:round;}\n  </style>\n </defs>\n <g id=\"figure_1\">\n  <g id=\"patch_1\">\n   <path d=\"M 0 250.142944 \nL 251.565 250.142944 \nL 251.565 0 \nL 0 0 \nz\n\" style=\"fill:none;\"/>\n  </g>\n  <g id=\"axes_1\">\n   <g id=\"patch_2\">\n    <path d=\"M 26.925 226.264819 \nL 244.365 226.264819 \nL 244.365 8.824819 \nL 26.925 8.824819 \nz\n\" style=\"fill:#ffffff;\"/>\n   </g>\n   <g clip-path=\"url(#p210c56f52b)\">\n    <image height=\"218\" id=\"image1d46c5dedf\" transform=\"scale(1 -1)translate(0 -218)\" width=\"218\" x=\"26.925\" xlink:href=\"data:image/png;base64,\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\" y=\"-8.264819\"/>\n   </g>\n   <g id=\"matplotlib.axis_1\">\n    <g id=\"xtick_1\">\n     <g id=\"line2d_1\">\n      <defs>\n       <path d=\"M 0 0 \nL 0 3.5 \n\" id=\"m7a3c73c8f0\" style=\"stroke:#000000;stroke-width:0.8;\"/>\n      </defs>\n      <g>\n       <use style=\"stroke:#000000;stroke-width:0.8;\" x=\"29.0994\" xlink:href=\"#m7a3c73c8f0\" y=\"226.264819\"/>\n      </g>\n     </g>\n     <g id=\"text_1\">\n      <!-- 0 -->\n      <defs>\n       <path d=\"M 31.78125 66.40625 \nQ 24.171875 66.40625 20.328125 58.90625 \nQ 16.5 51.421875 16.5 36.375 \nQ 16.5 21.390625 20.328125 13.890625 \nQ 24.171875 6.390625 31.78125 6.390625 \nQ 39.453125 6.390625 43.28125 13.890625 \nQ 47.125 21.390625 47.125 36.375 \nQ 47.125 51.421875 43.28125 58.90625 \nQ 39.453125 66.40625 31.78125 66.40625 \nz\nM 31.78125 74.21875 \nQ 44.046875 74.21875 50.515625 64.515625 \nQ 56.984375 54.828125 56.984375 36.375 \nQ 56.984375 17.96875 50.515625 8.265625 \nQ 44.046875 -1.421875 31.78125 -1.421875 \nQ 19.53125 -1.421875 13.0625 8.265625 \nQ 6.59375 17.96875 6.59375 36.375 \nQ 6.59375 54.828125 13.0625 64.515625 \nQ 19.53125 74.21875 31.78125 74.21875 \nz\n\" id=\"DejaVuSans-48\"/>\n      </defs>\n      <g transform=\"translate(25.91815 240.863256)scale(0.1 -0.1)\">\n       <use xlink:href=\"#DejaVuSans-48\"/>\n      </g>\n     </g>\n    </g>\n    <g id=\"xtick_2\">\n     <g id=\"line2d_2\">\n      <g>\n       <use style=\"stroke:#000000;stroke-width:0.8;\" x=\"72.5874\" xlink:href=\"#m7a3c73c8f0\" y=\"226.264819\"/>\n      </g>\n     </g>\n     <g id=\"text_2\">\n      <!-- 10 -->\n      <defs>\n       <path d=\"M 12.40625 8.296875 \nL 28.515625 8.296875 \nL 28.515625 63.921875 \nL 10.984375 60.40625 \nL 10.984375 69.390625 \nL 28.421875 72.90625 \nL 38.28125 72.90625 \nL 38.28125 8.296875 \nL 54.390625 8.296875 \nL 54.390625 0 \nL 12.40625 0 \nz\n\" id=\"DejaVuSans-49\"/>\n      </defs>\n      <g transform=\"translate(66.2249 240.863256)scale(0.1 -0.1)\">\n       <use xlink:href=\"#DejaVuSans-49\"/>\n       <use x=\"63.623047\" xlink:href=\"#DejaVuSans-48\"/>\n      </g>\n     </g>\n    </g>\n    <g id=\"xtick_3\">\n     <g id=\"line2d_3\">\n      <g>\n       <use style=\"stroke:#000000;stroke-width:0.8;\" x=\"116.0754\" xlink:href=\"#m7a3c73c8f0\" y=\"226.264819\"/>\n      </g>\n     </g>\n     <g id=\"text_3\">\n      <!-- 20 -->\n      <defs>\n       <path d=\"M 19.1875 8.296875 \nL 53.609375 8.296875 \nL 53.609375 0 \nL 7.328125 0 \nL 7.328125 8.296875 \nQ 12.9375 14.109375 22.625 23.890625 \nQ 32.328125 33.6875 34.8125 36.53125 \nQ 39.546875 41.84375 41.421875 45.53125 \nQ 43.3125 49.21875 43.3125 52.78125 \nQ 43.3125 58.59375 39.234375 62.25 \nQ 35.15625 65.921875 28.609375 65.921875 \nQ 23.96875 65.921875 18.8125 64.3125 \nQ 13.671875 62.703125 7.8125 59.421875 \nL 7.8125 69.390625 \nQ 13.765625 71.78125 18.9375 73 \nQ 24.125 74.21875 28.421875 74.21875 \nQ 39.75 74.21875 46.484375 68.546875 \nQ 53.21875 62.890625 53.21875 53.421875 \nQ 53.21875 48.921875 51.53125 44.890625 \nQ 49.859375 40.875 45.40625 35.40625 \nQ 44.1875 33.984375 37.640625 27.21875 \nQ 31.109375 20.453125 19.1875 8.296875 \nz\n\" id=\"DejaVuSans-50\"/>\n      </defs>\n      <g transform=\"translate(109.7129 240.863256)scale(0.1 -0.1)\">\n       <use xlink:href=\"#DejaVuSans-50\"/>\n       <use x=\"63.623047\" xlink:href=\"#DejaVuSans-48\"/>\n      </g>\n     </g>\n    </g>\n    <g id=\"xtick_4\">\n     <g id=\"line2d_4\">\n      <g>\n       <use style=\"stroke:#000000;stroke-width:0.8;\" x=\"159.5634\" xlink:href=\"#m7a3c73c8f0\" y=\"226.264819\"/>\n      </g>\n     </g>\n     <g id=\"text_4\">\n      <!-- 30 -->\n      <defs>\n       <path d=\"M 40.578125 39.3125 \nQ 47.65625 37.796875 51.625 33 \nQ 55.609375 28.21875 55.609375 21.1875 \nQ 55.609375 10.40625 48.1875 4.484375 \nQ 40.765625 -1.421875 27.09375 -1.421875 \nQ 22.515625 -1.421875 17.65625 -0.515625 \nQ 12.796875 0.390625 7.625 2.203125 \nL 7.625 11.71875 \nQ 11.71875 9.328125 16.59375 8.109375 \nQ 21.484375 6.890625 26.8125 6.890625 \nQ 36.078125 6.890625 40.9375 10.546875 \nQ 45.796875 14.203125 45.796875 21.1875 \nQ 45.796875 27.640625 41.28125 31.265625 \nQ 36.765625 34.90625 28.71875 34.90625 \nL 20.21875 34.90625 \nL 20.21875 43.015625 \nL 29.109375 43.015625 \nQ 36.375 43.015625 40.234375 45.921875 \nQ 44.09375 48.828125 44.09375 54.296875 \nQ 44.09375 59.90625 40.109375 62.90625 \nQ 36.140625 65.921875 28.71875 65.921875 \nQ 24.65625 65.921875 20.015625 65.03125 \nQ 15.375 64.15625 9.8125 62.3125 \nL 9.8125 71.09375 \nQ 15.4375 72.65625 20.34375 73.4375 \nQ 25.25 74.21875 29.59375 74.21875 \nQ 40.828125 74.21875 47.359375 69.109375 \nQ 53.90625 64.015625 53.90625 55.328125 \nQ 53.90625 49.265625 50.4375 45.09375 \nQ 46.96875 40.921875 40.578125 39.3125 \nz\n\" id=\"DejaVuSans-51\"/>\n      </defs>\n      <g transform=\"translate(153.2009 240.863256)scale(0.1 -0.1)\">\n       <use xlink:href=\"#DejaVuSans-51\"/>\n       <use x=\"63.623047\" xlink:href=\"#DejaVuSans-48\"/>\n      </g>\n     </g>\n    </g>\n    <g id=\"xtick_5\">\n     <g id=\"line2d_5\">\n      <g>\n       <use style=\"stroke:#000000;stroke-width:0.8;\" x=\"203.0514\" xlink:href=\"#m7a3c73c8f0\" y=\"226.264819\"/>\n      </g>\n     </g>\n     <g id=\"text_5\">\n      <!-- 40 -->\n      <defs>\n       <path d=\"M 37.796875 64.3125 \nL 12.890625 25.390625 \nL 37.796875 25.390625 \nz\nM 35.203125 72.90625 \nL 47.609375 72.90625 \nL 47.609375 25.390625 \nL 58.015625 25.390625 \nL 58.015625 17.1875 \nL 47.609375 17.1875 \nL 47.609375 0 \nL 37.796875 0 \nL 37.796875 17.1875 \nL 4.890625 17.1875 \nL 4.890625 26.703125 \nz\n\" id=\"DejaVuSans-52\"/>\n      </defs>\n      <g transform=\"translate(196.6889 240.863256)scale(0.1 -0.1)\">\n       <use xlink:href=\"#DejaVuSans-52\"/>\n       <use x=\"63.623047\" xlink:href=\"#DejaVuSans-48\"/>\n      </g>\n     </g>\n    </g>\n   </g>\n   <g id=\"matplotlib.axis_2\">\n    <g id=\"ytick_1\">\n     <g id=\"line2d_6\">\n      <defs>\n       <path d=\"M 0 0 \nL -3.5 0 \n\" id=\"mdf5a2b6c57\" style=\"stroke:#000000;stroke-width:0.8;\"/>\n      </defs>\n      <g>\n       <use style=\"stroke:#000000;stroke-width:0.8;\" x=\"26.925\" xlink:href=\"#mdf5a2b6c57\" y=\"10.999219\"/>\n      </g>\n     </g>\n     <g id=\"text_6\">\n      <!-- 0 -->\n      <g transform=\"translate(13.5625 14.798437)scale(0.1 -0.1)\">\n       <use xlink:href=\"#DejaVuSans-48\"/>\n      </g>\n     </g>\n    </g>\n    <g id=\"ytick_2\">\n     <g id=\"line2d_7\">\n      <g>\n       <use style=\"stroke:#000000;stroke-width:0.8;\" x=\"26.925\" xlink:href=\"#mdf5a2b6c57\" y=\"54.487219\"/>\n      </g>\n     </g>\n     <g id=\"text_7\">\n      <!-- 10 -->\n      <g transform=\"translate(7.2 58.286437)scale(0.1 -0.1)\">\n       <use xlink:href=\"#DejaVuSans-49\"/>\n       <use x=\"63.623047\" xlink:href=\"#DejaVuSans-48\"/>\n      </g>\n     </g>\n    </g>\n    <g id=\"ytick_3\">\n     <g id=\"line2d_8\">\n      <g>\n       <use style=\"stroke:#000000;stroke-width:0.8;\" x=\"26.925\" xlink:href=\"#mdf5a2b6c57\" y=\"97.975219\"/>\n      </g>\n     </g>\n     <g id=\"text_8\">\n      <!-- 20 -->\n      <g transform=\"translate(7.2 101.774437)scale(0.1 -0.1)\">\n       <use xlink:href=\"#DejaVuSans-50\"/>\n       <use x=\"63.623047\" xlink:href=\"#DejaVuSans-48\"/>\n      </g>\n     </g>\n    </g>\n    <g id=\"ytick_4\">\n     <g id=\"line2d_9\">\n      <g>\n       <use style=\"stroke:#000000;stroke-width:0.8;\" x=\"26.925\" xlink:href=\"#mdf5a2b6c57\" y=\"141.463219\"/>\n      </g>\n     </g>\n     <g id=\"text_9\">\n      <!-- 30 -->\n      <g transform=\"translate(7.2 145.262437)scale(0.1 -0.1)\">\n       <use xlink:href=\"#DejaVuSans-51\"/>\n       <use x=\"63.623047\" xlink:href=\"#DejaVuSans-48\"/>\n      </g>\n     </g>\n    </g>\n    <g id=\"ytick_5\">\n     <g id=\"line2d_10\">\n      <g>\n       <use style=\"stroke:#000000;stroke-width:0.8;\" x=\"26.925\" xlink:href=\"#mdf5a2b6c57\" y=\"184.951219\"/>\n      </g>\n     </g>\n     <g id=\"text_10\">\n      <!-- 40 -->\n      <g transform=\"translate(7.2 188.750437)scale(0.1 -0.1)\">\n       <use xlink:href=\"#DejaVuSans-52\"/>\n       <use x=\"63.623047\" xlink:href=\"#DejaVuSans-48\"/>\n      </g>\n     </g>\n    </g>\n   </g>\n   <g id=\"patch_3\">\n    <path d=\"M 26.925 226.264819 \nL 26.925 8.824819 \n\" style=\"fill:none;stroke:#000000;stroke-linecap:square;stroke-linejoin:miter;stroke-width:0.8;\"/>\n   </g>\n   <g id=\"patch_4\">\n    <path d=\"M 244.365 226.264819 \nL 244.365 8.824819 \n\" style=\"fill:none;stroke:#000000;stroke-linecap:square;stroke-linejoin:miter;stroke-width:0.8;\"/>\n   </g>\n   <g id=\"patch_5\">\n    <path d=\"M 26.925 226.264819 \nL 244.365 226.264819 \n\" style=\"fill:none;stroke:#000000;stroke-linecap:square;stroke-linejoin:miter;stroke-width:0.8;\"/>\n   </g>\n   <g id=\"patch_6\">\n    <path d=\"M 26.925 8.824819 \nL 244.365 8.824819 \n\" style=\"fill:none;stroke:#000000;stroke-linecap:square;stroke-linejoin:miter;stroke-width:0.8;\"/>\n   </g>\n  </g>\n </g>\n <defs>\n  <clipPath id=\"p210c56f52b\">\n   <rect height=\"217.44\" width=\"217.44\" x=\"26.925\" y=\"8.824819\"/>\n  </clipPath>\n </defs>\n</svg>\n",
      "text/plain": "<Figure size 432x288 with 1 Axes>"
     },
     "metadata": {
      "needs_background": "light"
     },
     "output_type": "display_data"
    }
   ],
   "source": [
    "import matplotlib.pyplot as plt\n",
    "plt.imshow(training_data[1][0],cmap=\"gray\")\n",
    "plt.show()"
   ]
  },
  {
   "cell_type": "code",
   "execution_count": 46,
   "metadata": {},
   "outputs": [],
   "source": [
    "import torch\n",
    "import torch.nn as nn\n",
    "import torch.nn.functional as \n",
    "\n",
    "## Now we can split our training data into X and y, as well as convert it to a tensor:\n",
    "X = torch.Tensor([i[0] for i in training_data]).view(-1,50,50)\n",
    "X = X/255.0\n",
    "y = torch.Tensor([i[1] for i in training_data])\n",
    "\n",
    "class Net(nn.Module):\n",
    "    def __init__(self):\n",
    "        super().__init__()\n",
    "        ## gray scale images will have one input channel and coloured will have 3 input channels - red, green,           ## and blue\n",
    "        ## The stride argument indicates how far the filter is moved after each computation.\n",
    "        self.conv1 = nn.Conv2d(1,32,5) ## Input, Output, Kernel Size = 5by5\n",
    "        self.conv2 = nn.Conv2d(32,64,5)\n",
    "        self.conv3 = nn.Conv2d(64,128,5)\n",
    "\n",
    "        x = torch.randn(50,50).view(-1,1,50,50)\n",
    "        self._to_linear = None\n",
    "        self.convs(x)\n",
    "\n",
    "        self.fc1 = nn.Linear(,512)\n",
    "        self.fc2 = nn.Linear(512,2)\n",
    "\n",
    "    def convs(self,x):\n",
    "\n",
    "\n",
    "\n",
    "\n",
    "\n",
    "\n",
    "\n",
    "                                                        "
   ]
  },
  {
   "cell_type": "code",
   "execution_count": null,
   "metadata": {},
   "outputs": [],
   "source": []
  },
  {
   "cell_type": "code",
   "execution_count": null,
   "metadata": {},
   "outputs": [],
   "source": []
  },
  {
   "cell_type": "code",
   "execution_count": null,
   "metadata": {},
   "outputs": [],
   "source": []
  }
 ]
}