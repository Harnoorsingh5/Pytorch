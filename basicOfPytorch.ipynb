{
 "nbformat": 4,
 "nbformat_minor": 2,
 "metadata": {
  "language_info": {
   "name": "python",
   "codemirror_mode": {
    "name": "ipython",
    "version": 3
   },
   "version": "3.7.3-final"
  },
  "orig_nbformat": 2,
  "file_extension": ".py",
  "mimetype": "text/x-python",
  "name": "python",
  "npconvert_exporter": "python",
  "pygments_lexer": "ipython3",
  "version": 3,
  "kernelspec": {
   "name": "python37364bitanaconda3conda69f34684b0334465ad3600c2ee4ebe36",
   "display_name": "Python 3.7.3 64-bit ('anaconda3': conda)"
  }
 },
 "cells": [
  {
   "cell_type": "code",
   "execution_count": 31,
   "metadata": {},
   "outputs": [
    {
     "name": "stdout",
     "output_type": "stream",
     "text": "tensor([[ 0.0000e+00, -2.0000e+00,  1.2431e-23],\n        [ 2.8586e-42,  1.1210e-44,  0.0000e+00],\n        [ 0.0000e+00,  0.0000e+00,  0.0000e+00],\n        [ 0.0000e+00,  0.0000e+00,  0.0000e+00],\n        [ 0.0000e+00,  0.0000e+00,  0.0000e+00]])\n"
    }
   ],
   "source": [
    "import torch \n",
    "x = torch.empty(5,3)\n",
    "print(x)\n"
   ]
  },
  {
   "cell_type": "code",
   "execution_count": 32,
   "metadata": {},
   "outputs": [
    {
     "name": "stdout",
     "output_type": "stream",
     "text": "tensor([[0.8676, 0.4224, 0.6706],\n        [0.3162, 0.8762, 0.0353],\n        [0.6994, 0.1390, 0.8991],\n        [0.8687, 0.8698, 0.0813],\n        [0.7163, 0.1328, 0.7203]])\n"
    }
   ],
   "source": [
    "x = torch.rand(5,3)\n",
    "print(x)"
   ]
  },
  {
   "cell_type": "code",
   "execution_count": 33,
   "metadata": {},
   "outputs": [
    {
     "name": "stdout",
     "output_type": "stream",
     "text": "tensor([[0, 0, 0],\n        [0, 0, 0],\n        [0, 0, 0],\n        [0, 0, 0],\n        [0, 0, 0]])\n"
    }
   ],
   "source": [
    "x = torch.zeros(5,3,dtype=torch.long)\n",
    "print(x)"
   ]
  },
  {
   "cell_type": "code",
   "execution_count": 34,
   "metadata": {},
   "outputs": [
    {
     "name": "stdout",
     "output_type": "stream",
     "text": "tensor([5.5000, 3.0000])\n"
    }
   ],
   "source": [
    "x = torch.tensor([5.5,3])\n",
    "print(x)"
   ]
  },
  {
   "cell_type": "code",
   "execution_count": 35,
   "metadata": {},
   "outputs": [
    {
     "name": "stdout",
     "output_type": "stream",
     "text": "tensor([[1., 1., 1.],\n        [1., 1., 1.],\n        [1., 1., 1.],\n        [1., 1., 1.],\n        [1., 1., 1.]], dtype=torch.float64)\ntensor([[ 1.1034,  0.0317,  0.4706],\n        [-1.2771, -0.3542, -0.2352],\n        [ 0.8463,  0.9557,  0.4604],\n        [-0.0776, -1.2049,  1.4936],\n        [ 0.1810,  0.6276,  0.3158]])\n"
    }
   ],
   "source": [
    "x = x.new_ones(5, 3, dtype=torch.double)      # new_* methods take in sizes\n",
    "print(x)\n",
    "\n",
    "x = torch.randn_like(x, dtype=torch.float)    # override dtype!\n",
    "print(x)"
   ]
  },
  {
   "cell_type": "code",
   "execution_count": 36,
   "metadata": {},
   "outputs": [
    {
     "name": "stdout",
     "output_type": "stream",
     "text": "torch.Size([5, 3])\n"
    }
   ],
   "source": [
    "print(x.size())"
   ]
  },
  {
   "cell_type": "code",
   "execution_count": 37,
   "metadata": {},
   "outputs": [
    {
     "name": "stdout",
     "output_type": "stream",
     "text": "tensor([[1.0332, 1.3762, 0.2857],\n        [1.2958, 1.2079, 1.3214],\n        [1.3985, 1.1763, 1.2872],\n        [1.5419, 1.4081, 1.5142],\n        [1.0587, 0.3233, 1.1608]])\ntensor([[1.0332, 1.3762, 0.2857],\n        [1.2958, 1.2079, 1.3214],\n        [1.3985, 1.1763, 1.2872],\n        [1.5419, 1.4081, 1.5142],\n        [1.0587, 0.3233, 1.1608]])\ntensor([[1.0332, 1.3762, 0.2857],\n        [1.2958, 1.2079, 1.3214],\n        [1.3985, 1.1763, 1.2872],\n        [1.5419, 1.4081, 1.5142],\n        [1.0587, 0.3233, 1.1608]])\ntensor([[1.0332, 1.3762, 0.2857],\n        [1.2958, 1.2079, 1.3214],\n        [1.3985, 1.1763, 1.2872],\n        [1.5419, 1.4081, 1.5142],\n        [1.0587, 0.3233, 1.1608]])\n"
    }
   ],
   "source": [
    "X = torch.rand(5,3)\n",
    "Y = torch.rand(5,3)\n",
    "print(X+Y)\n",
    "print(torch.add(X, Y))\n",
    "Z = torch.empty(5,3)\n",
    "torch.add(X,Y,out=Z)\n",
    "print(Z)\n",
    "\n",
    "Y.add_(X)\n",
    "print(Y)"
   ]
  },
  {
   "cell_type": "code",
   "execution_count": 38,
   "metadata": {},
   "outputs": [
    {
     "name": "stdout",
     "output_type": "stream",
     "text": "torch.Size([4, 4]) torch.Size([16]) torch.Size([2, 8])\ntensor([[-0.3425,  0.0798,  0.0445,  0.8660],\n        [-0.3999, -0.6653, -0.2404,  0.1605],\n        [ 0.8326,  0.2071,  2.3561, -0.0270],\n        [-1.0154,  0.9580, -1.2988,  0.4136]])\ntensor([-0.3425,  0.0798,  0.0445,  0.8660, -0.3999, -0.6653, -0.2404,  0.1605,\n         0.8326,  0.2071,  2.3561, -0.0270, -1.0154,  0.9580, -1.2988,  0.4136])\ntensor([[-0.3425,  0.0798,  0.0445,  0.8660, -0.3999, -0.6653, -0.2404,  0.1605],\n        [ 0.8326,  0.2071,  2.3561, -0.0270, -1.0154,  0.9580, -1.2988,  0.4136]])\n"
    }
   ],
   "source": [
    "X = torch.randn(4,4)\n",
    "Y = X.view(16)\n",
    "Z = X.view(-1,8)\n",
    "print(X.size(),Y.size(),Z.size())\n",
    "print(X)\n",
    "\n",
    "print(Y)\n",
    "\n",
    "print(Z)"
   ]
  },
  {
   "cell_type": "code",
   "execution_count": 39,
   "metadata": {},
   "outputs": [
    {
     "name": "stdout",
     "output_type": "stream",
     "text": "tensor([-0.8269])\n-0.8268657922744751\n"
    }
   ],
   "source": [
    "x = torch.randn(1)\n",
    "print(x)\n",
    "print(x.item())\n"
   ]
  },
  {
   "cell_type": "code",
   "execution_count": 42,
   "metadata": {},
   "outputs": [
    {
     "name": "stdout",
     "output_type": "stream",
     "text": "tensor([1., 1., 1., 1., 1.])\n[1. 1. 1. 1. 1.]\ntensor([2., 2., 2., 2., 2.])\n[2. 2. 2. 2. 2.]\n"
    }
   ],
   "source": [
    "a = torch.ones(5)\n",
    "print(a)\n",
    "\n",
    "\n",
    "b = a.numpy()\n",
    "print(b)\n",
    "\n",
    "\n",
    "a.add_(1)\n",
    "print(a)\n",
    "print(b)\n",
    "\n"
   ]
  },
  {
   "cell_type": "code",
   "execution_count": 43,
   "metadata": {},
   "outputs": [
    {
     "name": "stdout",
     "output_type": "stream",
     "text": "[2. 2. 2. 2. 2.]\ntensor([2., 2., 2., 2., 2.], dtype=torch.float64)\n"
    }
   ],
   "source": [
    "import numpy as np\n",
    "a = np.ones(5)\n",
    "b = torch.from_numpy(a)\n",
    "np.add(a,1,out=a)\n",
    "print(a)\n",
    "print(b)\n"
   ]
  },
  {
   "cell_type": "code",
   "execution_count": null,
   "metadata": {},
   "outputs": [],
   "source": []
  }
 ]
}